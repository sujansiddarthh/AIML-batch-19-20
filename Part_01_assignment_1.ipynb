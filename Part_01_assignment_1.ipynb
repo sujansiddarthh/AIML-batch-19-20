{
  "nbformat": 4,
  "nbformat_minor": 0,
  "metadata": {
    "colab": {
      "provenance": [],
      "authorship_tag": "ABX9TyPs3p8adOuwhLAENHVaa38E",
      "include_colab_link": true
    },
    "kernelspec": {
      "name": "python3",
      "display_name": "Python 3"
    },
    "language_info": {
      "name": "python"
    }
  },
  "cells": [
    {
      "cell_type": "markdown",
      "metadata": {
        "id": "view-in-github",
        "colab_type": "text"
      },
      "source": [
        "<a href=\"https://colab.research.google.com/github/sujansiddarthh/AIML-batch-20/blob/main/Part_01_assignment_1.ipynb\" target=\"_parent\"><img src=\"https://colab.research.google.com/assets/colab-badge.svg\" alt=\"Open In Colab\"/></a>"
      ]
    },
    {
      "cell_type": "markdown",
      "source": [],
      "metadata": {
        "id": "A2gNPxct1R8g"
      }
    },
    {
      "cell_type": "markdown",
      "source": [
        "## implement basic data structures using numpy,pandas"
      ],
      "metadata": {
        "id": "Z62BoCpi1TIw"
      }
    },
    {
      "cell_type": "code",
      "source": [],
      "metadata": {
        "id": "7MLxpxde1ckY"
      },
      "execution_count": null,
      "outputs": []
    },
    {
      "cell_type": "markdown",
      "source": [
        "### List"
      ],
      "metadata": {
        "id": "I1ZoKCu11gBg"
      }
    },
    {
      "cell_type": "code",
      "source": [
        "import numpy as np"
      ],
      "metadata": {
        "id": "Y0r29RNZ1iKY"
      },
      "execution_count": null,
      "outputs": []
    },
    {
      "cell_type": "code",
      "source": [
        "list={1,2,3,4,5}\n",
        "print(list)"
      ],
      "metadata": {
        "colab": {
          "base_uri": "https://localhost:8080/"
        },
        "id": "01E9jWwT1zwY",
        "outputId": "a0c3fba6-6037-4e6a-ab9c-81375a23b947"
      },
      "execution_count": null,
      "outputs": [
        {
          "output_type": "stream",
          "name": "stdout",
          "text": [
            "{1, 2, 3, 4, 5}\n"
          ]
        }
      ]
    }
  ]
}